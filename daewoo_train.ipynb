{
 "cells": [
  {
   "cell_type": "code",
   "execution_count": 1,
   "metadata": {},
   "outputs": [
    {
     "name": "stderr",
     "output_type": "stream",
     "text": [
      "C:\\Users\\Jay\\Anaconda3\\envs\\tensorflow\\lib\\site-packages\\h5py\\__init__.py:36: FutureWarning: Conversion of the second argument of issubdtype from `float` to `np.floating` is deprecated. In future, it will be treated as `np.float64 == np.dtype(float).type`.\n",
      "  from ._conv import register_converters as _register_converters\n"
     ]
    }
   ],
   "source": [
    "from tensorflow.contrib.data import Dataset, Iterator\n",
    "import pandas as pd\n",
    "import numpy as np\n",
    "import os\n",
    "from daewoo_module import *\n",
    "from tqdm import tqdm_notebook as tqdm\n",
    "\n",
    "root_dir = \".\\\\input_data\"\n",
    "# img_dir = os.path.join(root_dir, '/figure'). 이미지는 os.path.join쓰면 안되는경우가 있음\n",
    "img_dir = \"./input_data/figure/\"\n",
    "logs_path = os.path.join(root_dir, \"graph\")\n",
    "\n",
    "label = pd.read_csv(os.path.join(root_dir, 'description.csv'), engine='python')\n",
    "label = label['WVHT ft.y'].values\n",
    "label = ((label - np.mean(label))/np.std(label)).reshape(-1,1)\n",
    "\n",
    "batch_size = 16\n",
    "epochs = 2"
   ]
  },
  {
   "cell_type": "code",
   "execution_count": 2,
   "metadata": {
    "scrolled": false
   },
   "outputs": [
    {
     "name": "stdout",
     "output_type": "stream",
     "text": [
      "WARNING:tensorflow:From <ipython-input-2-d6ffea330963>:18: Dataset.from_tensor_slices (from tensorflow.contrib.data.python.ops.dataset_ops) is deprecated and will be removed in a future version.\n",
      "Instructions for updating:\n",
      "Use `tf.data.Dataset.from_tensor_slices()`.\n"
     ]
    }
   ],
   "source": [
    "img = np.array([img_dir + x for x in os.listdir(img_dir)])\n",
    "\n",
    "np.random.seed(1234)\n",
    "idx = np.random.permutation(len(img))\n",
    "tr_idx = idx[:round(0.8*len(idx))]\n",
    "ts_idx = idx[round(0.8*len(idx)):]\n",
    "\n",
    "train_img = img[tr_idx]\n",
    "train_label = label[tr_idx]\n",
    "test_img = img[ts_idx]\n",
    "test_label = label[ts_idx]\n",
    "\n",
    "train_img_tensor = tf.constant(train_img)\n",
    "train_label_tensor = tf.constant(train_label)\n",
    "test_img_tensor = tf.constant(test_img)\n",
    "test_label_tensor = tf.constant(test_label)\n",
    "\n",
    "train_imgs = Dataset.from_tensor_slices((train_img_tensor,train_label_tensor))\n",
    "train_imgs = train_imgs.map(input_tensor).shuffle(buffer_size=1000).batch(batch_size)\n",
    "test_imgs = Dataset.from_tensor_slices((test_img_tensor,test_label_tensor))\n",
    "test_imgs = test_imgs.map(input_tensor).shuffle(buffer_size=1000).batch(batch_size)\n",
    "\n",
    "train_iterator = train_imgs.make_initializable_iterator()\n",
    "test_iterator = test_imgs.make_initializable_iterator()\n",
    "\n",
    "train_x, train_y = train_iterator.get_next()\n",
    "test_x, test_y = test_iterator.get_next()\n",
    "\n",
    "train_batches = len(train_img) // batch_size\n",
    "test_batches = len(test_img) // batch_size"
   ]
  },
  {
   "cell_type": "code",
   "execution_count": 5,
   "metadata": {
    "scrolled": true
   },
   "outputs": [],
   "source": [
    "model_name = \"VGG16_\"\n",
    "model = VGG16(bn=True)"
   ]
  },
  {
   "cell_type": "code",
   "execution_count": null,
   "metadata": {
    "scrolled": true
   },
   "outputs": [],
   "source": [
    "with tf.Session() as sess:\n",
    "    sess.run(tf.global_variables_initializer())\n",
    "    train_writer = tf.summary.FileWriter(os.path.join(logs_path, model_name, 'train'), sess.graph)\n",
    "    test_writer = tf.summary.FileWriter(os.path.join(logs_path, model_name, 'test'))\n",
    "    \n",
    "    for i in tqdm(range(epochs)):\n",
    "        print(\"Training!\")\n",
    "        sess.run(train_iterator.initializer)\n",
    "        sess.run(test_iterator.initializer)\n",
    "        for j in tqdm(range(train_batches)):\n",
    "            summary, _, loss_ = sess.run([model.merged_summary_op, model.train, model.loss],\n",
    "                                        feed_dict={model.x:train_x,\n",
    "                                                   model.y:train_y,\n",
    "                                                   model.learning_rate:0.001})\n",
    "            if j % 10 == 0:\n",
    "                print(\"Training Epoch : {}, Iter : {}, Loss : {:.4f}\".format(i+1, j, loss_))\n",
    "                train_summary_writer.add_summary(summary, j)\n",
    "                summary, loss_ = sess.run([model.merged_summary_op, model.loss],\n",
    "                                         feed_dict={model.x:test_x, model.y:test_y})\n",
    "                print(\"Validation Iter : {}, Loss : {:.4f}\".format(j, loss_))\n",
    "                test_summary_writer.add_summary(summary, j)\n",
    "    \n",
    "    print(\"-----------End of training-------------\")\n",
    "            \n",
    "            "
   ]
  },
  {
   "cell_type": "code",
   "execution_count": null,
   "metadata": {
    "collapsed": true
   },
   "outputs": [],
   "source": [
    "tf.reset_default_graph()\n",
    "sess.close()\n"
   ]
  },
  {
   "cell_type": "code",
   "execution_count": null,
   "metadata": {
    "collapsed": true
   },
   "outputs": [],
   "source": []
  }
 ],
 "metadata": {
  "kernelspec": {
   "display_name": "Tensorflow",
   "language": "python",
   "name": "tensorflow"
  },
  "language_info": {
   "codemirror_mode": {
    "name": "ipython",
    "version": 3
   },
   "file_extension": ".py",
   "mimetype": "text/x-python",
   "name": "python",
   "nbconvert_exporter": "python",
   "pygments_lexer": "ipython3",
   "version": "3.6.3"
  }
 },
 "nbformat": 4,
 "nbformat_minor": 2
}
