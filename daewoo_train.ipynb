{
 "cells": [
  {
   "cell_type": "code",
   "execution_count": 1,
   "metadata": {},
   "outputs": [
    {
     "name": "stderr",
     "output_type": "stream",
     "text": [
      "C:\\Users\\Jay\\Anaconda3\\envs\\tensorflow\\lib\\site-packages\\h5py\\__init__.py:36: FutureWarning: Conversion of the second argument of issubdtype from `float` to `np.floating` is deprecated. In future, it will be treated as `np.float64 == np.dtype(float).type`.\n",
      "  from ._conv import register_converters as _register_converters\n"
     ]
    }
   ],
   "source": [
    "from tensorflow.contrib.data import Dataset, Iterator\n",
    "import pandas as pd\n",
    "import numpy as np\n",
    "import os\n",
    "from daewoo_module import *\n",
    "from tqdm import tqdm_notebook as tqdm\n",
    "\n",
    "root_dir = \".\\\\input_data\"\n",
    "# img_dir = os.path.join(root_dir, '/figure'). 이미지는 os.path.join쓰면 안되는경우가 있음\n",
    "img_dir = \"./input_data/figure/\"\n",
    "logs_path = os.path.join(root_dir, \"graph\")\n",
    "\n",
    "img = np.array([img_dir + x for x in os.listdir(img_dir)])\n",
    "label = pd.read_csv(os.path.join(root_dir, 'description.csv'), engine='python')\n",
    "\n",
    "# Classification과 regression 선택\n",
    "classification = True\n",
    "\n",
    "batch_size = 16\n",
    "epochs = 2\n",
    "\n",
    "if classification is True:\n",
    "    label = pd.cut(label['WVHT ft.y'], bins=[0,5,10,100],labels=[0,1,2], include_lowest=True)\n",
    "    label = np.array(label)\n",
    "else:    \n",
    "    label = label['WVHT ft.y'].values\n",
    "    label = ((label - np.mean(label))/np.std(label)).reshape(-1,1)"
   ]
  },
  {
   "cell_type": "code",
   "execution_count": 2,
   "metadata": {
    "scrolled": true
   },
   "outputs": [
    {
     "name": "stdout",
     "output_type": "stream",
     "text": [
      "WARNING:tensorflow:From <ipython-input-2-4914d77db473>:3: Dataset.from_tensor_slices (from tensorflow.contrib.data.python.ops.dataset_ops) is deprecated and will be removed in a future version.\n",
      "Instructions for updating:\n",
      "Use `tf.data.Dataset.from_tensor_slices()`.\n"
     ]
    }
   ],
   "source": [
    "train_img_tensor, train_label_tensor, test_img_tensor, test_label_tensor = set_input(img, label)\n",
    "\n",
    "train_imgs = Dataset.from_tensor_slices((train_img_tensor,train_label_tensor))\n",
    "test_imgs = Dataset.from_tensor_slices((test_img_tensor,test_label_tensor))\n",
    "\n",
    "if classification is True:\n",
    "    train_imgs = train_imgs.map(input_tensor).batch(batch_size).shuffle(buffer_size=1000).repeat()\n",
    "    test_imgs = test_imgs.map(input_tensor).batch(batch_size).shuffle(buffer_size=1000).repeat()\n",
    "else:\n",
    "    train_imgs = train_imgs.map(input_tensor_regression).batch(batch_size).shuffle(buffer_size=1000).repeat()\n",
    "    test_imgs = test_imgs.map(input_tensor_regression).batch(batch_size).shuffle(buffer_size=1000).repeat()\n",
    "    \n",
    "train_iterator = train_imgs.make_initializable_iterator()\n",
    "test_iterator = test_imgs.make_initializable_iterator()\n",
    "handle = tf.placeholder(tf.string, shape=[])\n",
    "\n",
    "iterator = tf.data.Iterator.from_string_handle(handle, train_imgs.output_types, train_imgs.output_shapes)\n",
    "x, y = iterator.get_next()\n",
    "\n",
    "train_batches = round(0.8 * len(label)) // batch_size\n",
    "test_batches = (len(label)-round(0.8*len(label))) // batch_size"
   ]
  },
  {
   "cell_type": "code",
   "execution_count": 3,
   "metadata": {
    "scrolled": true
   },
   "outputs": [],
   "source": [
    "model_name = \"VGG16_classification\"\n",
    "model = VGG16(x, y, bn=True, classification=classification)"
   ]
  },
  {
   "cell_type": "code",
   "execution_count": null,
   "metadata": {},
   "outputs": [
    {
     "name": "stdout",
     "output_type": "stream",
     "text": [
      "Training!\n"
     ]
    },
    {
     "data": {
      "application/vnd.jupyter.widget-view+json": {
       "model_id": "e401b36a3e1d4f189f28a91321628385",
       "version_major": 2,
       "version_minor": 0
      },
      "text/plain": [
       "A Jupyter Widget"
      ]
     },
     "metadata": {},
     "output_type": "display_data"
    },
    {
     "name": "stdout",
     "output_type": "stream",
     "text": [
      "-------1 Epoch--------\n"
     ]
    },
    {
     "data": {
      "application/vnd.jupyter.widget-view+json": {
       "model_id": "1328299f47dd4b749c31eada56bb9ad2",
       "version_major": 2,
       "version_minor": 0
      },
      "text/plain": [
       "A Jupyter Widget"
      ]
     },
     "metadata": {},
     "output_type": "display_data"
    }
   ],
   "source": [
    "with tf.Session() as sess:\n",
    "    sess.run(tf.global_variables_initializer())\n",
    "    train_handle = sess.run(train_iterator.string_handle())\n",
    "    test_handle = sess.run(test_iterator.string_handle())\n",
    "    train_writer = tf.summary.FileWriter(os.path.join(logs_path, model_name, 'train'), sess.graph)\n",
    "    test_writer = tf.summary.FileWriter(os.path.join(logs_path, model_name, 'test'))\n",
    "    \n",
    "    print(\"Training!\")\n",
    "    for i in tqdm(range(epochs)):\n",
    "        print(\"-------{} Epoch--------\".format(i+1))\n",
    "        sess.run(train_iterator.initializer)\n",
    "        sess.run(test_iterator.initializer)\n",
    "        for j in tqdm(range(train_batches)):\n",
    "            summary, _, acc, loss_ = sess.run([model.merged_summary_op, model.train,\n",
    "                                               model.accuracy, model.loss],\n",
    "                                        feed_dict={handle:train_handle,\n",
    "                                                   model.learning_rate:0.001})\n",
    "            if j % 10 == 0:\n",
    "                print(\"Training Iter : {}, Acc : {.4f}, Loss : {:.4f}\".format(j, acc, loss_))\n",
    "                train_writer.add_summary(summary, j)\n",
    "                summary, acc, loss_ = sess.run([model.merged_summary_op, model.accuracy,\n",
    "                                                model.loss],\n",
    "                                         feed_dict={handle:test_handle})\n",
    "                print(\"Validation Iter : {}, Loss : {:.4f}\".format(j, loss_))\n",
    "                test_writer.add_summary(summary, j)\n",
    "    \n",
    "    print(\"-----------End of training-------------\")\n",
    "            "
   ]
  },
  {
   "cell_type": "code",
   "execution_count": null,
   "metadata": {
    "collapsed": true,
    "scrolled": true
   },
   "outputs": [],
   "source": [
    "with tf.Session() as sess:\n",
    "    sess.run(tf.global_variables_initializer())\n",
    "    train_handle = sess.run(train_iterator.string_handle())\n",
    "    test_handle = sess.run(test_iterator.string_handle())\n",
    "    train_writer = tf.summary.FileWriter(os.path.join(logs_path, model_name, 'train'), sess.graph)\n",
    "    test_writer = tf.summary.FileWriter(os.path.join(logs_path, model_name, 'test'))\n",
    "    \n",
    "    print(\"Training!\")\n",
    "    for i in tqdm(range(epochs)):\n",
    "        print(\"-------{} Epoch--------\".format(i+1))\n",
    "        sess.run(train_iterator.initializer)\n",
    "        sess.run(test_iterator.initializer)\n",
    "        for j in tqdm(range(train_batches)):\n",
    "            summary, _, loss_ = sess.run([model.merged_summary_op, model.train, model.loss],\n",
    "                                        feed_dict={handle:train_handle,\n",
    "                                                   model.learning_rate:0.001})\n",
    "            if j % 10 == 0:\n",
    "                print(\"Training Iter : {}, Loss : {:.4f}\".format(i+1, j, loss_))\n",
    "                train_writer.add_summary(summary, j)\n",
    "                summary, loss_ = sess.run([model.merged_summary_op, model.loss],\n",
    "                                         feed_dict={handle:test_handle})\n",
    "                print(\"Validation Iter : {}, Loss : {:.4f}\".format(j, loss_))\n",
    "                test_writer.add_summary(summary, j)\n",
    "    \n",
    "    print(\"-----------End of training-------------\")\n",
    "            \n",
    "            "
   ]
  },
  {
   "cell_type": "code",
   "execution_count": null,
   "metadata": {
    "collapsed": true
   },
   "outputs": [],
   "source": [
    "model"
   ]
  }
 ],
 "metadata": {
  "kernelspec": {
   "display_name": "Tensorflow",
   "language": "python",
   "name": "tensorflow"
  },
  "language_info": {
   "codemirror_mode": {
    "name": "ipython",
    "version": 3
   },
   "file_extension": ".py",
   "mimetype": "text/x-python",
   "name": "python",
   "nbconvert_exporter": "python",
   "pygments_lexer": "ipython3",
   "version": "3.6.3"
  }
 },
 "nbformat": 4,
 "nbformat_minor": 2
}
